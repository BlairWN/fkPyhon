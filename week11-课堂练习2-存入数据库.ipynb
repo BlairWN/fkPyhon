{
 "cells": [
  {
   "cell_type": "code",
   "execution_count": 8,
   "metadata": {},
   "outputs": [],
   "source": [
    "#将练习1抽取的文章数据，以json字符串格式存入文件后。\n",
    "#读取文件内容，将每一条记录插入事先创建好的mysql数据库中的数据表里。\n",
    "import json\n",
    "import pymysql\n",
    "with open(\"week11可可英语科技.txt\") as f:\n",
    "    text = json.loads(f.read())\n",
    "#连接数据库\n",
    "conn = pymysql.connect('localhost','root','','keke')\n",
    "cur = conn.cursor()\n",
    "sql = 'set names utf8'\n",
    "cur.execute(sql)\n",
    "# 插入数据到数据库\n",
    "for i in text:\n",
    "    sql = \"INSERT INTO `keji` (`title`, `link`,`date`,`person`,`content`) values (%s,%s,%s,%s,%s)\"\n",
    "    title = i['title']\n",
    "    link = i ['link']\n",
    "    content = i ['content']\n",
    "    date=i['date']\n",
    "    person=i['person']\n",
    "    cur.execute(sql, [title,link,content,date,person])\n",
    "    conn.commit()\n",
    "\n",
    "cur.close()\n",
    "conn.close()\n",
    "f.close()"
   ]
  },
  {
   "cell_type": "code",
   "execution_count": null,
   "metadata": {},
   "outputs": [],
   "source": []
  }
 ],
 "metadata": {
  "kernelspec": {
   "display_name": "Python 3",
   "language": "python",
   "name": "python3"
  },
  "language_info": {
   "codemirror_mode": {
    "name": "ipython",
    "version": 3
   },
   "file_extension": ".py",
   "mimetype": "text/x-python",
   "name": "python",
   "nbconvert_exporter": "python",
   "pygments_lexer": "ipython3",
   "version": "3.7.4"
  }
 },
 "nbformat": 4,
 "nbformat_minor": 2
}

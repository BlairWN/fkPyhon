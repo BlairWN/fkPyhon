{
 "cells": [
  {
   "cell_type": "code",
   "execution_count": 40,
   "metadata": {},
   "outputs": [
    {
     "name": "stdout",
     "output_type": "stream",
     "text": [
      "29\n"
     ]
    }
   ],
   "source": [
    "a='在 尼比鲁星球 探查 期间 ，企业号 舰长 柯克 为 营救 史波克 采取 了 胆大妄为 的 举动 ， 几乎 危及 全舰 队员 的 生命 ， 他 也 为此 付出 代价 。'\n",
    "a=a.split(' ')#可以直接切分\n",
    "num=0\n",
    "for x in a:\n",
    "    num=num+1\n",
    "print(num)\n",
    "text = \"在尼比鲁星球探查期间，企业号舰长柯克为营救史波克采取了胆大妄为的举动，几乎危及全舰队员的生命，他也为此付出代价。\"\n"
   ]
  },
  {
   "cell_type": "code",
   "execution_count": 44,
   "metadata": {},
   "outputs": [
    {
     "name": "stdout",
     "output_type": "stream",
     "text": [
      "jieba总词数 31\n",
      "jieba正确词数 24\n",
      "jieba准确率 0.7741935483870968\n",
      "jieba召回率 0.8275862068965517\n",
      "jieba评价 0.7999999999999999\n",
      "snownlp总词数 36\n",
      "snownlp正确词数 25\n",
      "snownlp准确率 0.6944444444444444\n",
      "snownlp召回率 0.8620689655172413\n",
      "jieba评价 0.7692307692307692\n"
     ]
    }
   ],
   "source": [
    "#练习一\n",
    "def wordlist():#一般很多我会放在此表\n",
    "    wordneed = [line.strip() for line in open('D:\\大三\\python\\词表.txt',encoding='UTF-8').readlines()]\n",
    "    return wordneed\n",
    "wordr=wordlist()\n",
    "wordr#目标中词\n",
    "# jieba\n",
    "import jieba\n",
    "words = jieba.cut(text)\n",
    "i=0 #计算总次数\n",
    "j=0 #计算正确词数\n",
    "for w in words:\n",
    "    i=i+1\n",
    "    if w in wordr:\n",
    "        j=j+1\n",
    "print('jieba总词数',i)#计算结巴中词数\n",
    "print('jieba正确词数',j)#正确词数\n",
    "p=j/i\n",
    "r=j/num\n",
    "print('jieba准确率',j/i)\n",
    "print('jieba召回率',j/num)\n",
    "print('jieba评价',(2*p*r)/(p+r))\n",
    "\n",
    "# snownlp\n",
    "i=0\n",
    "j=0\n",
    "from snownlp import SnowNLP\n",
    "doc = SnowNLP(text)\n",
    "for word in doc.words:\n",
    "    i=i+1\n",
    "    if word in wordr:\n",
    "        j=j+1\n",
    "print('snownlp总词数',i)#计算结巴中词数\n",
    "print('snownlp正确词数',j)#正确词数\n",
    "p=j/i\n",
    "r=j/num\n",
    "print('snownlp准确率',j/i)\n",
    "print('snownlp召回率',j/num)\n",
    "print('jieba评价',(2*p*r)/(p+r))\n"
   ]
  },
  {
   "cell_type": "code",
   "execution_count": 52,
   "metadata": {},
   "outputs": [
    {
     "data": {
      "text/plain": [
       "[('2019', 'm'),\n",
       " ('年', 'q'),\n",
       " ('即将', 'd'),\n",
       " ('结束', 'v'),\n",
       " ('，', 'w'),\n",
       " ('与', 'c'),\n",
       " ('之', 'u'),\n",
       " ('相伴', 'v'),\n",
       " ('的', 'u'),\n",
       " ('是', 'v'),\n",
       " ('健康', 'a'),\n",
       " ('保健', 'n'),\n",
       " ('行业', 'n'),\n",
       " ('中', 'f'),\n",
       " ('一些', 'm'),\n",
       " ('有趣', 'a'),\n",
       " ('的', 'u'),\n",
       " ('新', 'a'),\n",
       " ('趋势', 'n'),\n",
       " ('。', 'w'),\n",
       " ('这', 'r'),\n",
       " ('是', 'v'),\n",
       " ('一个', 'm'),\n",
       " ('不断', 'd'),\n",
       " ('发展', 'v'),\n",
       " ('的', 'u'),\n",
       " ('领域', 'n'),\n",
       " ('，', 'w'),\n",
       " ('随着', 'p'),\n",
       " ('新技术', 'l'),\n",
       " ('和', 'c'),\n",
       " ('信息', 'n'),\n",
       " ('的', 'u'),\n",
       " ('广大', 'b'),\n",
       " ('普及', 'vn'),\n",
       " ('，', 'w'),\n",
       " ('新', 'd'),\n",
       " ('出现', 'v'),\n",
       " ('的', 'u'),\n",
       " ('趋势', 'n'),\n",
       " ('受到', 'v'),\n",
       " ('了', 'u'),\n",
       " ('人们', 'n'),\n",
       " ('的', 'u'),\n",
       " ('关注', 'v'),\n",
       " ('。2019', 'm'),\n",
       " ('年', 'q'),\n",
       " ('，', 'w'),\n",
       " ('我们', 'r'),\n",
       " ('看到', 'v'),\n",
       " ('越来越', 'd'),\n",
       " ('多', 'a'),\n",
       " ('的', 'u'),\n",
       " ('人', 'n'),\n",
       " ('选择', 'v'),\n",
       " ('了', 'u'),\n",
       " ('新', 'a'),\n",
       " ('疗法', 'n'),\n",
       " ('，', 'w'),\n",
       " ('包括', 'v'),\n",
       " ('大', 'a'),\n",
       " ('麻二', 'nx'),\n",
       " ('酚', 'k'),\n",
       " ('产品', 'n'),\n",
       " ('的', 'u'),\n",
       " ('增加', 'vn'),\n",
       " ('，', 'w'),\n",
       " ('以及', 'c'),\n",
       " ('致力', 'v'),\n",
       " ('于', 'p'),\n",
       " ('改善', 'v'),\n",
       " ('健康', 'a'),\n",
       " ('的', 'u'),\n",
       " ('应用', 'vn'),\n",
       " ('程序', 'n'),\n",
       " ('和', 'c'),\n",
       " ('技术', 'n'),\n",
       " ('的', 'u'),\n",
       " ('持续', 'vd'),\n",
       " ('增长', 'v'),\n",
       " ('。', 'w')]"
      ]
     },
     "execution_count": 52,
     "metadata": {},
     "output_type": "execute_result"
    }
   ],
   "source": [
    "from snownlp import SnowNLP\n",
    "from pprint import pprint\n",
    "text = \"2019年即将结束，与之相伴的是健康保健行业中一些有趣的新趋势。这是一个不断发展的领域，随着新技术和信息的广大普及，新出现的趋势受到了人们的关注。2019年，我们看到越来越多的人选择了新疗法，包括大麻二酚产品的增加，以及致力于改善健康的应用程序和技术的持续增长。\"\n",
    "s = SnowNLP(text)\n",
    "tags = [t for t in s.tags]\n",
    "tags\n",
    "#词性标注"
   ]
  },
  {
   "cell_type": "code",
   "execution_count": 53,
   "metadata": {},
   "outputs": [
    {
     "name": "stdout",
     "output_type": "stream",
     "text": [
      "{'a': 7,\n",
      " 'b': 1,\n",
      " 'c': 4,\n",
      " 'd': 4,\n",
      " 'f': 1,\n",
      " 'k': 1,\n",
      " 'l': 1,\n",
      " 'm': 4,\n",
      " 'n': 12,\n",
      " 'nx': 1,\n",
      " 'p': 2,\n",
      " 'q': 2,\n",
      " 'r': 2,\n",
      " 'u': 13,\n",
      " 'v': 14,\n",
      " 'vd': 1,\n",
      " 'vn': 3,\n",
      " 'w': 8}\n"
     ]
    }
   ],
   "source": [
    "distr = {}\n",
    "for t in tags:\n",
    "    if not t[1] in distr.keys():\n",
    "        distr[t[1]]=1\n",
    "    else:\n",
    "        distr[t[1]]+=1\n",
    "pprint(distr)\n",
    "#定义词典 看分布\n",
    "#文本向量化处理"
   ]
  },
  {
   "cell_type": "code",
   "execution_count": 54,
   "metadata": {},
   "outputs": [],
   "source": [
    "#语义范畴分析：单词出现频率-》词表 领域表 大领域表  \n",
    "#英文分词：专有名词、单复数、时态、所有格"
   ]
  },
  {
   "cell_type": "code",
   "execution_count": null,
   "metadata": {},
   "outputs": [],
   "source": []
  }
 ],
 "metadata": {
  "kernelspec": {
   "display_name": "Python 3",
   "language": "python",
   "name": "python3"
  },
  "language_info": {
   "codemirror_mode": {
    "name": "ipython",
    "version": 3
   },
   "file_extension": ".py",
   "mimetype": "text/x-python",
   "name": "python",
   "nbconvert_exporter": "python",
   "pygments_lexer": "ipython3",
   "version": "3.7.4"
  }
 },
 "nbformat": 4,
 "nbformat_minor": 2
}
